{
 "cells": [
  {
   "cell_type": "code",
   "execution_count": 1,
   "id": "16750ffd-c31f-4178-b829-7a9b86433001",
   "metadata": {},
   "outputs": [],
   "source": [
    "import pandas as pd"
   ]
  },
  {
   "cell_type": "code",
   "execution_count": 2,
   "id": "916499d7-8f6e-42fd-9dbd-288b69599f26",
   "metadata": {},
   "outputs": [],
   "source": [
    "X_val_test2= pd.read_csv('X_val_test2.csv')"
   ]
  },
  {
   "cell_type": "code",
   "execution_count": 3,
   "id": "291de6a7-6f9c-451f-928a-b705f4cf858d",
   "metadata": {},
   "outputs": [
    {
     "data": {
      "text/html": [
       "<div>\n",
       "<style scoped>\n",
       "    .dataframe tbody tr th:only-of-type {\n",
       "        vertical-align: middle;\n",
       "    }\n",
       "\n",
       "    .dataframe tbody tr th {\n",
       "        vertical-align: top;\n",
       "    }\n",
       "\n",
       "    .dataframe thead th {\n",
       "        text-align: right;\n",
       "    }\n",
       "</style>\n",
       "<table border=\"1\" class=\"dataframe\">\n",
       "  <thead>\n",
       "    <tr style=\"text-align: right;\">\n",
       "      <th></th>\n",
       "      <th>0</th>\n",
       "    </tr>\n",
       "  </thead>\n",
       "  <tbody>\n",
       "    <tr>\n",
       "      <th>DAYS_EMPLOYED</th>\n",
       "      <td>1648.000000</td>\n",
       "    </tr>\n",
       "    <tr>\n",
       "      <th>DAYS_BIRTH</th>\n",
       "      <td>55.797260</td>\n",
       "    </tr>\n",
       "    <tr>\n",
       "      <th>EXT_SOURCE_3</th>\n",
       "      <td>0.535276</td>\n",
       "    </tr>\n",
       "    <tr>\n",
       "      <th>DAYS_ID_PUBLISH</th>\n",
       "      <td>3816.000000</td>\n",
       "    </tr>\n",
       "    <tr>\n",
       "      <th>CODE_GENDER</th>\n",
       "      <td>1.000000</td>\n",
       "    </tr>\n",
       "    <tr>\n",
       "      <th>FLAG_OWN_CAR</th>\n",
       "      <td>0.000000</td>\n",
       "    </tr>\n",
       "    <tr>\n",
       "      <th>EXT_SOURCE_2</th>\n",
       "      <td>0.520273</td>\n",
       "    </tr>\n",
       "    <tr>\n",
       "      <th>EXT_SOURCE_1</th>\n",
       "      <td>0.710616</td>\n",
       "    </tr>\n",
       "    <tr>\n",
       "      <th>NAME_EDUCATION_TYPE_Higher education</th>\n",
       "      <td>1.000000</td>\n",
       "    </tr>\n",
       "    <tr>\n",
       "      <th>NAME_CONTRACT_TYPE_Cash loans</th>\n",
       "      <td>1.000000</td>\n",
       "    </tr>\n",
       "    <tr>\n",
       "      <th>HOUR_APPR_PROCESS_START</th>\n",
       "      <td>15.000000</td>\n",
       "    </tr>\n",
       "    <tr>\n",
       "      <th>NAME_FAMILY_STATUS_Married</th>\n",
       "      <td>1.000000</td>\n",
       "    </tr>\n",
       "    <tr>\n",
       "      <th>FLAG_PHONE</th>\n",
       "      <td>0.000000</td>\n",
       "    </tr>\n",
       "    <tr>\n",
       "      <th>AMT_INCOME_TOTAL</th>\n",
       "      <td>112500.000000</td>\n",
       "    </tr>\n",
       "    <tr>\n",
       "      <th>AMT_CREDIT</th>\n",
       "      <td>755190.000000</td>\n",
       "    </tr>\n",
       "    <tr>\n",
       "      <th>DAYS_REGISTRATION</th>\n",
       "      <td>1226.000000</td>\n",
       "    </tr>\n",
       "    <tr>\n",
       "      <th>INCOME_CREDIT_PERC</th>\n",
       "      <td>0.148969</td>\n",
       "    </tr>\n",
       "    <tr>\n",
       "      <th>FLAG_DOCUMENT_3</th>\n",
       "      <td>0.000000</td>\n",
       "    </tr>\n",
       "    <tr>\n",
       "      <th>EMERGENCYSTATE_MODE_No</th>\n",
       "      <td>0.000000</td>\n",
       "    </tr>\n",
       "    <tr>\n",
       "      <th>WALLSMATERIAL_MODE_Panel</th>\n",
       "      <td>0.000000</td>\n",
       "    </tr>\n",
       "  </tbody>\n",
       "</table>\n",
       "</div>"
      ],
      "text/plain": [
       "                                                  0\n",
       "DAYS_EMPLOYED                           1648.000000\n",
       "DAYS_BIRTH                                55.797260\n",
       "EXT_SOURCE_3                               0.535276\n",
       "DAYS_ID_PUBLISH                         3816.000000\n",
       "CODE_GENDER                                1.000000\n",
       "FLAG_OWN_CAR                               0.000000\n",
       "EXT_SOURCE_2                               0.520273\n",
       "EXT_SOURCE_1                               0.710616\n",
       "NAME_EDUCATION_TYPE_Higher education       1.000000\n",
       "NAME_CONTRACT_TYPE_Cash loans              1.000000\n",
       "HOUR_APPR_PROCESS_START                   15.000000\n",
       "NAME_FAMILY_STATUS_Married                 1.000000\n",
       "FLAG_PHONE                                 0.000000\n",
       "AMT_INCOME_TOTAL                      112500.000000\n",
       "AMT_CREDIT                            755190.000000\n",
       "DAYS_REGISTRATION                       1226.000000\n",
       "INCOME_CREDIT_PERC                         0.148969\n",
       "FLAG_DOCUMENT_3                            0.000000\n",
       "EMERGENCYSTATE_MODE_No                     0.000000\n",
       "WALLSMATERIAL_MODE_Panel                   0.000000"
      ]
     },
     "execution_count": 3,
     "metadata": {},
     "output_type": "execute_result"
    }
   ],
   "source": [
    "test= X_val_test2.head(1)\n",
    "test.T"
   ]
  },
  {
   "cell_type": "code",
   "execution_count": 4,
   "id": "ab8d428c-67b2-4b34-b6b0-0183beb84982",
   "metadata": {},
   "outputs": [
    {
     "data": {
      "text/plain": [
       "(1, 20)"
      ]
     },
     "execution_count": 4,
     "metadata": {},
     "output_type": "execute_result"
    }
   ],
   "source": [
    "test.shape"
   ]
  },
  {
   "cell_type": "code",
   "execution_count": 5,
   "id": "d467c023-582a-4706-9094-9579d0d92f58",
   "metadata": {},
   "outputs": [
    {
     "name": "stdout",
     "output_type": "stream",
     "text": [
      "{'DAYS_EMPLOYED': 1648.0, 'DAYS_BIRTH': 55.79726027397261, 'EXT_SOURCE_3': 0.5352762504724826, 'DAYS_ID_PUBLISH': 3816.0, 'CODE_GENDER': 1, 'FLAG_OWN_CAR': 0, 'EXT_SOURCE_2': 0.5202729458498015, 'EXT_SOURCE_1': 0.7106164129275255, 'NAME_EDUCATION_TYPE_Higher education': 1, 'NAME_CONTRACT_TYPE_Cash loans': 1, 'HOUR_APPR_PROCESS_START': 15, 'NAME_FAMILY_STATUS_Married': 1, 'FLAG_PHONE': 0, 'AMT_INCOME_TOTAL': 112500.0, 'AMT_CREDIT': 755190.0, 'DAYS_REGISTRATION': 1226.0, 'INCOME_CREDIT_PERC': 0.148969133595519, 'FLAG_DOCUMENT_3': 0, 'EMERGENCYSTATE_MODE_No': 0, 'WALLSMATERIAL_MODE_Panel': 0}\n"
     ]
    }
   ],
   "source": [
    "# Convertir le DataFrame en un dictionnaire\n",
    "test_data = test.to_dict(orient='records')\n",
    "\n",
    "# Afficher le premier enregistrement du dictionnaire\n",
    "print(test_data[0])"
   ]
  },
  {
   "cell_type": "markdown",
   "id": "a8a6896e-d082-4190-bd05-2b58f7edd6ff",
   "metadata": {},
   "source": [
    "# test prediction "
   ]
  },
  {
   "cell_type": "code",
   "execution_count": 36,
   "id": "ecd0ec43-653c-4433-abf6-334dbf4fd7d9",
   "metadata": {},
   "outputs": [
    {
     "name": "stdout",
     "output_type": "stream",
     "text": [
      "Prediction: 0\n"
     ]
    }
   ],
   "source": [
    "import requests\n",
    "\n",
    "input_data = {\n",
    "    'SK_ID_CURR': 1985,\n",
    "    'DAYS_EMPLOYED': 1648.0, \n",
    "    'DAYS_BIRTH': 55.7,\n",
    "    'EXT_SOURCE_3': 0.535,\n",
    "    'DAYS_ID_PUBLISH': 3816.0,\n",
    "    'CODE_GENDER': 1, \n",
    "    'FLAG_OWN_CAR': 0, \n",
    "    'EXT_SOURCE_2': 0.52027,\n",
    "    'EXT_SOURCE_1': 0.710616, \n",
    "    'NAME_EDUCATION_TYPE_Highereducation': 1,  \n",
    "    'NAME_CONTRACT_TYPE_Cashloans': 1,  \n",
    "    'HOUR_APPR_PROCESS_START': 15, \n",
    "    'NAME_FAMILY_STATUS_Married': 1, \n",
    "    'FLAG_PHONE': 0, \n",
    "    'AMT_INCOME_TOTAL': 112500.0, \n",
    "    'AMT_CREDIT': 755190.0, \n",
    "    'DAYS_REGISTRATION': 1226.0,\n",
    "    'INCOME_CREDIT_PERC': 0.14,\n",
    "    'FLAG_DOCUMENT_3': 0, \n",
    "    'EMERGENCYSTATE_MODE_No': 0, \n",
    "    'WALLSMATERIAL_MODE_Panel': 0\n",
    "}\n",
    "\n",
    "# URL de l'endpoint de prédiction\n",
    "url = \"http://localhost:8000/predict/\"\n",
    "\n",
    "# Envoyer une requête POST à l'API avec les données d'entrée\n",
    "response = requests.post(url, json=input_data)\n",
    "\n",
    "# Vérifier le code de statut de la réponse et extraire la prédiction à partir de la réponse JSON\n",
    "if response.status_code == 200:\n",
    "    prediction_result = response.json()[\"prediction\"]\n",
    "    print(\"Prediction:\", prediction_result)\n",
    "else:\n",
    "    print(\"Error:\", response.text)\n"
   ]
  },
  {
   "cell_type": "markdown",
   "id": "8cc11b50-150b-4688-bb6e-4a882ff403a1",
   "metadata": {},
   "source": [
    "# test score proba"
   ]
  },
  {
   "cell_type": "code",
   "execution_count": 80,
   "id": "0978c1af-9d09-4448-830d-9c7b19166856",
   "metadata": {},
   "outputs": [
    {
     "name": "stdout",
     "output_type": "stream",
     "text": [
      "Predicted Probability Result: {'SK_ID_CURR': [1985], 'predicted_proba': [0.29326415211961193]}\n"
     ]
    }
   ],
   "source": [
    "import requests\n",
    "\n",
    "# Définissez les données d'entrée pour l'analyse SHAP\n",
    "input_data = [{\n",
    "    'SK_ID_CURR': 1985,\n",
    "    'DAYS_EMPLOYED': 1648.0, \n",
    "    'DAYS_BIRTH': 55.7,\n",
    "    'EXT_SOURCE_3': 0.535,\n",
    "    'DAYS_ID_PUBLISH': 3816.0,\n",
    "    'CODE_GENDER': 1, \n",
    "    'FLAG_OWN_CAR': 0, \n",
    "    'EXT_SOURCE_2': 0.52027,\n",
    "    'EXT_SOURCE_1': 0.710616, \n",
    "    'NAME_EDUCATION_TYPE_Highereducation': 1,  \n",
    "    'NAME_CONTRACT_TYPE_Cashloans': 1,  \n",
    "    'HOUR_APPR_PROCESS_START': 15, \n",
    "    'NAME_FAMILY_STATUS_Married': 1, \n",
    "    'FLAG_PHONE': 0, \n",
    "    'AMT_INCOME_TOTAL': 112500.0, \n",
    "    'AMT_CREDIT': 755190.0, \n",
    "    'DAYS_REGISTRATION': 1226.0,\n",
    "    'INCOME_CREDIT_PERC': 0.14,\n",
    "    'FLAG_DOCUMENT_3': 0, \n",
    "    'EMERGENCYSTATE_MODE_No': 0, \n",
    "    'WALLSMATERIAL_MODE_Panel': 0\n",
    "}]\n",
    "\n",
    "# URL de l'endpoint pour obtenir le score de probabilité\n",
    "url_predict_proba = \"http://localhost:8000/predict_proba/\"\n",
    "\n",
    "# Envoyer une requête POST à l'API avec les données d'entrée\n",
    "response_predict_proba = requests.post(url_predict_proba, json=input_data)\n",
    "\n",
    "# Vérifier le code de statut de la réponse et afficher la réponse JSON\n",
    "if response_predict_proba.status_code == 200:\n",
    "    predict_proba_result = response_predict_proba.json()\n",
    "    print(\"Predicted Probability Result:\", predict_proba_result)\n",
    "else:\n",
    "    print(\"Error:\", response_predict_proba.text)"
   ]
  },
  {
   "cell_type": "markdown",
   "id": "5b6ba7f2-d07d-4c61-9638-b87c8c72514a",
   "metadata": {},
   "source": [
    "# test shap"
   ]
  },
  {
   "cell_type": "code",
   "execution_count": 79,
   "id": "f3eba177-6150-4c44-b391-d10419a7a057",
   "metadata": {},
   "outputs": [
    {
     "name": "stdout",
     "output_type": "stream",
     "text": [
      "SHAP Analysis Result: SK_ID_CURR: 1985\n",
      "Feature Names and SHAP Values:\n",
      "DAYS_EMPLOYED: -0.577879276260578\n",
      "DAYS_BIRTH: 0.1688312831997809\n",
      "EXT_SOURCE_3: -0.27553115542274076\n",
      "DAYS_ID_PUBLISH: -0.19333478648522762\n",
      "CODE_GENDER: -0.0880753080379651\n",
      "FLAG_OWN_CAR: 0.14050148454325365\n",
      "EXT_SOURCE_2: -0.06346199423264257\n",
      "EXT_SOURCE_1: -0.10706419232820795\n",
      "NAME_EDUCATION_TYPE_Highereducation: -0.22544399405691282\n",
      "NAME_CONTRACT_TYPE_Cashloans: 0.05829827595672446\n",
      "HOUR_APPR_PROCESS_START: 0.03573107053341475\n",
      "NAME_FAMILY_STATUS_Married: -0.08287732043419803\n",
      "FLAG_PHONE: 0.050242788138662786\n",
      "AMT_INCOME_TOTAL: 0.1446911893882829\n",
      "AMT_CREDIT: -0.29277984601800294\n",
      "DAYS_REGISTRATION: 0.020129850561152095\n",
      "INCOME_CREDIT_PERC: -0.05872532377767891\n",
      "FLAG_DOCUMENT_3: -0.00496296296134959\n",
      "EMERGENCYSTATE_MODE_No: 0.05416869648357551\n",
      "WALLSMATERIAL_MODE_Panel: 0.04542819638398204\n",
      "\n"
     ]
    }
   ],
   "source": [
    "\n",
    "import requests\n",
    "\n",
    "# Définissez les données d'entrée pour l'analyse SHAP\n",
    "input_data = [{\n",
    "    'SK_ID_CURR': 1985,\n",
    "    'DAYS_EMPLOYED': 1648.0, \n",
    "    'DAYS_BIRTH': 55.7,\n",
    "    'EXT_SOURCE_3': 0.535,\n",
    "    'DAYS_ID_PUBLISH': 3816.0,\n",
    "    'CODE_GENDER': 1, \n",
    "    'FLAG_OWN_CAR': 0, \n",
    "    'EXT_SOURCE_2': 0.52027,\n",
    "    'EXT_SOURCE_1': 0.710616, \n",
    "    'NAME_EDUCATION_TYPE_Highereducation': 1,  \n",
    "    'NAME_CONTRACT_TYPE_Cashloans': 1,  \n",
    "    'HOUR_APPR_PROCESS_START': 15, \n",
    "    'NAME_FAMILY_STATUS_Married': 1, \n",
    "    'FLAG_PHONE': 0, \n",
    "    'AMT_INCOME_TOTAL': 112500.0, \n",
    "    'AMT_CREDIT': 755190.0, \n",
    "    'DAYS_REGISTRATION': 1226.0,\n",
    "    'INCOME_CREDIT_PERC': 0.14,\n",
    "    'FLAG_DOCUMENT_3': 0, \n",
    "    'EMERGENCYSTATE_MODE_No': 0, \n",
    "    'WALLSMATERIAL_MODE_Panel': 0\n",
    "}]\n",
    "\n",
    "\n",
    "# URL de l'endpoint de l'analyse SHAP\n",
    "url_shap = \"http://localhost:8000/shap/\"\n",
    "\n",
    "# Envoyer une requête POST à l'API avec les données d'entrée\n",
    "response_shap = requests.post(url_shap, json=input_data)\n",
    "\n",
    "# Vérifier le code de statut de la réponse et afficher la réponse JSON\n",
    "if response_shap.status_code == 200:\n",
    "    shap_result = response_shap.json()\n",
    "    print(\"SHAP Analysis Result:\", shap_result)\n",
    "else:\n",
    "    print(\"Error:\", response_shap.text)"
   ]
  },
  {
   "cell_type": "markdown",
   "id": "2230334f-2776-42eb-9bea-edf99e885472",
   "metadata": {},
   "source": [
    "# test api azure "
   ]
  },
  {
   "cell_type": "code",
   "execution_count": 11,
   "id": "ffa21b7d-90e2-4fe4-bc93-19b211ec2517",
   "metadata": {},
   "outputs": [
    {
     "name": "stdout",
     "output_type": "stream",
     "text": [
      "{'message': 'Welcome to your FastAPI application!'}\n"
     ]
    }
   ],
   "source": [
    "import requests\n",
    "\n",
    "input_data = {\n",
    "    'SK_ID_CURR': 1985,\n",
    "    'DAYS_EMPLOYED': 1648.0, \n",
    "    'DAYS_BIRTH': 55.7,\n",
    "    'EXT_SOURCE_3': 0.535,\n",
    "    'DAYS_ID_PUBLISH': 3816.0,\n",
    "    'CODE_GENDER': 1, \n",
    "    'FLAG_OWN_CAR': 0, \n",
    "    'EXT_SOURCE_2': 0.52027,\n",
    "    'EXT_SOURCE_1': 0.710616, \n",
    "    'NAME_EDUCATION_TYPE_Highereducation': 1,  \n",
    "    'NAME_CONTRACT_TYPE_Cashloans': 1,  \n",
    "    'HOUR_APPR_PROCESS_START': 15, \n",
    "    'NAME_FAMILY_STATUS_Married': 1, \n",
    "    'FLAG_PHONE': 0, \n",
    "    'AMT_INCOME_TOTAL': 112500.0, \n",
    "    'AMT_CREDIT': 755190.0, \n",
    "    'DAYS_REGISTRATION': 1226.0,\n",
    "    'INCOME_CREDIT_PERC': 0.14,\n",
    "    'FLAG_DOCUMENT_3': 0, \n",
    "    'EMERGENCYSTATE_MODE_No': 0, \n",
    "    'WALLSMATERIAL_MODE_Panel': 0\n",
    "}\n",
    "\n",
    "\n",
    "# URL de l'endpoint de prédiction\n",
    "url = \"https://modelia.azurewebsites.net/\"\n",
    "\n",
    "# Envoyer une requête POST à l'API avec les données d'entrée\n",
    "response = requests.get(url)\n",
    "\n",
    "# Vérifier le code de statut de la réponse et extraire la prédiction à partir de la réponse JSON\n",
    "print(response.json())\n"
   ]
  },
  {
   "cell_type": "code",
   "execution_count": 10,
   "id": "8699bf28-850f-439f-929f-67d15d22cf63",
   "metadata": {},
   "outputs": [
    {
     "name": "stdout",
     "output_type": "stream",
     "text": [
      "Prediction: 0\n"
     ]
    }
   ],
   "source": [
    "import requests\n",
    "\n",
    "input_data = {\n",
    "    'SK_ID_CURR': 1985,\n",
    "    'DAYS_EMPLOYED': 1648.0, \n",
    "    'DAYS_BIRTH': 55.7,\n",
    "    'EXT_SOURCE_3': 0.535,\n",
    "    'DAYS_ID_PUBLISH': 3816.0,\n",
    "    'CODE_GENDER': 1, \n",
    "    'FLAG_OWN_CAR': 0, \n",
    "    'EXT_SOURCE_2': 0.52027,\n",
    "    'EXT_SOURCE_1': 0.710616, \n",
    "    'NAME_EDUCATION_TYPE_Highereducation': 1,  \n",
    "    'NAME_CONTRACT_TYPE_Cashloans': 1,  \n",
    "    'HOUR_APPR_PROCESS_START': 15, \n",
    "    'NAME_FAMILY_STATUS_Married': 1, \n",
    "    'FLAG_PHONE': 0, \n",
    "    'AMT_INCOME_TOTAL': 112500.0, \n",
    "    'AMT_CREDIT': 755190.0, \n",
    "    'DAYS_REGISTRATION': 1226.0,\n",
    "    'INCOME_CREDIT_PERC': 0.14,\n",
    "    'FLAG_DOCUMENT_3': 0, \n",
    "    'EMERGENCYSTATE_MODE_No': 0, \n",
    "    'WALLSMATERIAL_MODE_Panel': 0\n",
    "}\n",
    "\n",
    "# URL de l'endpoint de prédiction\n",
    "url = \"https://modelia.azurewebsites.net/predict/\"\n",
    "\n",
    "# Envoyer une requête POST à l'API avec les données d'entrée\n",
    "response = requests.post(url, json=input_data)\n",
    "\n",
    "# Vérifier le code de statut de la réponse et extraire la prédiction à partir de la réponse JSON\n",
    "if response.status_code == 200:\n",
    "    prediction_result = response.json()[\"prediction\"]\n",
    "    print(\"Prediction:\", prediction_result)\n",
    "else:\n",
    "    print(\"Error:\", response.text)\n"
   ]
  },
  {
   "cell_type": "code",
   "execution_count": null,
   "id": "48e2f8f6-3d81-4bf4-a98c-b1d8c1fc1e32",
   "metadata": {},
   "outputs": [],
   "source": []
  },
  {
   "cell_type": "code",
   "execution_count": null,
   "id": "f95b7fa2-4f5a-42a5-aa4a-ac071792cb47",
   "metadata": {},
   "outputs": [],
   "source": []
  }
 ],
 "metadata": {
  "kernelspec": {
   "display_name": "Python 3 (ipykernel)",
   "language": "python",
   "name": "python3"
  },
  "language_info": {
   "codemirror_mode": {
    "name": "ipython",
    "version": 3
   },
   "file_extension": ".py",
   "mimetype": "text/x-python",
   "name": "python",
   "nbconvert_exporter": "python",
   "pygments_lexer": "ipython3",
   "version": "3.11.9"
  }
 },
 "nbformat": 4,
 "nbformat_minor": 5
}
